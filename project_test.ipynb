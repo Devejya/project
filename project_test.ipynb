{
 "cells": [
  {
   "cell_type": "markdown",
   "metadata": {},
   "source": [
    "# PHYS 267 Final Project: Physics Education Research\n",
    "**Team: Devejya Raghuvanshi, Kevin Bacabac**\n"
   ]
  },
  {
   "cell_type": "markdown",
   "metadata": {},
   "source": [
    "## Introduction\n",
    "\n",
    "NOTES:\n",
    "- Data Preprocessing Note\n",
    "    - Note that Likert type scale is converted to 0 to 5 in the data collection process.\n",
    "    - Since our main question and hypothesis refer to an overall change in students attitude. Therefore, instead of analysing the students answer for each question, we use the calculate an overall student attitude metric to compare pre and post lab.\n",
    "    - The Student Attitude Metric is a weighted sum of scores for each of the questions answered by a particular student. A weight of +1 or -1 is assigned to the score for each question. \n",
    "    How we assign weights:\n",
    "        - +1: If higher score on that question indicates positive attitude by the student towards the lab.\n",
    "        - -1: If higher score on the question indicates negative attitude by the student towards the lab.\n",
    "        - 0: If the answers to the question do not indicate either positive or negative attitude. \n",
    "    \n",
    "    - This assumes each question has the same importance.\n",
    "\n",
    "\n"
   ]
  },
  {
   "cell_type": "markdown",
   "metadata": {},
   "source": [
    "## Results"
   ]
  },
  {
   "cell_type": "code",
   "execution_count": 5,
   "metadata": {},
   "outputs": [],
   "source": [
    "import pandas as pd \n",
    "import numpy as np\n",
    "\n",
    "# Read Data\n",
    "prelab = pd.read_excel(\"PHYS267_DataSet_PER.xlsx\", sheet_name=0)\n",
    "postlab = pd.read_excel(\"PHYS267_DataSet_PER.xlsx\", sheet_name=1)\n"
   ]
  },
  {
   "cell_type": "code",
   "execution_count": 3,
   "metadata": {},
   "outputs": [
    {
     "name": "stdout",
     "output_type": "stream",
     "text": [
      "rows with na values =  125 shape of pre-lab q is  (248, 34)\n"
     ]
    }
   ],
   "source": [
    "\n",
    "d = {}\n",
    "d[\"Q1\"] = pd.DataFrame(columns=[\"1\", \"2\", \"3\", \"4\", \"5\"],\\\n",
    "    data=prelab[[1,'Unnamed: 3',\n",
    "         'Unnamed: 4','Unnamed: 5','Unnamed: 6']].values[1:]\n",
    ")\n",
    "d[\"Q2\"] = pd.DataFrame(columns=[\"1\", \"2\", \"3\", \"4\", \"5\", \"6\", \"7\", \"8\", \"9\", \"10\" ,\"11\"],\\\n",
    "    data=prelab[[2,\n",
    "        'Unnamed: 8',  'Unnamed: 9', 'Unnamed: 10', 'Unnamed: 11',\n",
    "       'Unnamed: 12', 'Unnamed: 13', 'Unnamed: 14', 'Unnamed: 15',\n",
    "       'Unnamed: 16', 'Unnamed: 17']].values[1:]\n",
    ")\n",
    "d[\"Q3\"] = pd.DataFrame(columns=[\"1\", \"2\", \"3\", \"4\"],\\\n",
    "    data=prelab[[3, 'Unnamed: 19',\n",
    "       'Unnamed: 20', 'Unnamed: 21']].values[1:]\n",
    ")\n",
    "d[\"Q4\"] = pd.DataFrame(columns=[\"1\", \"2\", \"3\", \"4\", \"5\", \"6\", \"7\"],\\\n",
    "    data=prelab[[4, 'Unnamed: 23',\n",
    "       'Unnamed: 24', 'Unnamed: 25', 'Unnamed: 26', 'Unnamed: 27',\n",
    "       'Unnamed: 28']].values[1:]\n",
    ")\n",
    "d[\"Q5\"] = pd.DataFrame(columns=[\"1\", \"2\", \"3\", \"4\", \"5\", \"6\", \"7\"],\\\n",
    "    data=prelab[[5, 'Unnamed: 30', 'Unnamed: 31',\n",
    "       'Unnamed: 32', 'Unnamed: 33', 'Unnamed: 34', 'Unnamed: 35']].values[1:]\n",
    ")\n",
    "prelab_studentnum = prelab['Unnamed: 0'][1:].values\n",
    "prelab_q = pd.concat(d, axis=1)\n",
    "prelab_q.index = prelab_studentnum\n",
    "print('rows with na values = ',prelab_q.isna().any(axis=1).sum(), \"shape of pre-lab q is \", prelab_q.shape)\n"
   ]
  },
  {
   "cell_type": "code",
   "execution_count": 6,
   "metadata": {},
   "outputs": [
    {
     "name": "stdout",
     "output_type": "stream",
     "text": [
      "rows with na values =  137 shape of pre-lab q is  (260, 34)\n"
     ]
    }
   ],
   "source": [
    "import matplotlib.pyplot as plt\n",
    "d2 = {}\n",
    "d2[\"Q1\"] = pd.DataFrame(columns=[\"1\", \"2\", \"3\", \"4\", \"5\"],\\\n",
    "    data=postlab[[1,'Unnamed: 3',\n",
    "         'Unnamed: 4','Unnamed: 5','Unnamed: 6']].values[1:]\n",
    ")\n",
    "d2[\"Q2\"] = pd.DataFrame(columns=[\"1\", \"2\", \"3\", \"4\", \"5\", \"6\", \"7\", \"8\", \"9\", \"10\" ,\"11\"],\\\n",
    "    data=postlab[[2,\n",
    "        'Unnamed: 8',  'Unnamed: 9', 'Unnamed: 10', 'Unnamed: 11',\n",
    "       'Unnamed: 12', 'Unnamed: 13', 'Unnamed: 14', 'Unnamed: 15',\n",
    "       'Unnamed: 16', 'Unnamed: 17']].values[1:]\n",
    ")\n",
    "d2[\"Q3\"] = pd.DataFrame(columns=[\"1\", \"2\", \"3\", \"4\"],\\\n",
    "    data=postlab[[3, 'Unnamed: 19',\n",
    "       'Unnamed: 20', 'Unnamed: 21']].values[1:]\n",
    ")\n",
    "d2[\"Q4\"] = pd.DataFrame(columns=[\"1\", \"2\", \"3\", \"4\", \"5\", \"6\", \"7\"],\\\n",
    "    data=postlab[[4, 'Unnamed: 23',\n",
    "       'Unnamed: 24', 'Unnamed: 25', 'Unnamed: 26', 'Unnamed: 27',\n",
    "       'Unnamed: 28']].values[1:]\n",
    ")\n",
    "d2[\"Q5\"] = pd.DataFrame(columns=[\"1\", \"2\", \"3\", \"4\", \"5\", \"6\", \"7\"],\\\n",
    "    data=postlab[[5, 'Unnamed: 30', 'Unnamed: 31',\n",
    "       'Unnamed: 32', 'Unnamed: 33', 'Unnamed: 34', 'Unnamed: 35']].values[1:]\n",
    ")\n",
    "postlab_studentnum = postlab['Unnamed: 0'][1:].values\n",
    "postlab_q = pd.concat(d2, axis=1)\n",
    "postlab_q.index = postlab_studentnum\n",
    "print('rows with na values = ',postlab_q.isna().any(axis=1).sum(), \"shape of pre-lab q is \", postlab_q.shape)\n",
    "# Dropping all rows with any NaN values\n",
    "postlab_q.dropna(inplace=True)\n",
    "prelab_q.dropna(inplace=True)\n"
   ]
  },
  {
   "cell_type": "markdown",
   "metadata": {},
   "source": [
    "## Exploratory Data Analysis (EDA)\n",
    "\n",
    "#### Steps:\n",
    "* Data Visualization. (eg. Histograms, Piecharts, Line Plots)\n",
    "* Distribution Statistics. (eg. Moments of the distribution)\n",
    "\n",
    "The EDA also includes a small discussion regarding the observations from the exploration.\n",
    "\n",
    "### EDA Step 1: Data Visualization:\n",
    "\n",
    "Since our data is categorical (ordinal, answers to likert type questions). We are interested in the frequency of each answer per question. Therefore, before visualizing the data, we process it to contain only the frequencies.\n",
    "\n"
   ]
  },
  {
   "cell_type": "code",
   "execution_count": 67,
   "metadata": {},
   "outputs": [
    {
     "ename": "NameError",
     "evalue": "name 'q_df' is not defined",
     "output_type": "error",
     "traceback": [
      "\u001b[0;31m---------------------------------------------------------------------------\u001b[0m",
      "\u001b[0;31mNameError\u001b[0m                                 Traceback (most recent call last)",
      "\u001b[0;32m<ipython-input-67-1cd0ca24091b>\u001b[0m in \u001b[0;36m<module>\u001b[0;34m\u001b[0m\n\u001b[1;32m     27\u001b[0m \u001b[0;31m# Plotting Side-by-Side Histogram\u001b[0m\u001b[0;34m\u001b[0m\u001b[0;34m\u001b[0m\u001b[0;34m\u001b[0m\u001b[0m\n\u001b[1;32m     28\u001b[0m \u001b[0;34m\u001b[0m\u001b[0m\n\u001b[0;32m---> 29\u001b[0;31m \u001b[0mfig\u001b[0m\u001b[0;34m,\u001b[0m \u001b[0max\u001b[0m \u001b[0;34m=\u001b[0m \u001b[0mplt\u001b[0m\u001b[0;34m.\u001b[0m\u001b[0msubplots\u001b[0m\u001b[0;34m(\u001b[0m\u001b[0mlen\u001b[0m\u001b[0;34m(\u001b[0m\u001b[0mq_df\u001b[0m\u001b[0;34m.\u001b[0m\u001b[0mcolumns\u001b[0m\u001b[0;34m)\u001b[0m\u001b[0;34m,\u001b[0m \u001b[0;36m3\u001b[0m\u001b[0;34m,\u001b[0m \u001b[0mfigsize\u001b[0m\u001b[0;34m=\u001b[0m\u001b[0;34m(\u001b[0m\u001b[0;36m12\u001b[0m\u001b[0;34m,\u001b[0m\u001b[0;36m60\u001b[0m\u001b[0;34m)\u001b[0m\u001b[0;34m)\u001b[0m\u001b[0;34m\u001b[0m\u001b[0;34m\u001b[0m\u001b[0m\n\u001b[0m\u001b[1;32m     30\u001b[0m \u001b[0mfig\u001b[0m\u001b[0;34m.\u001b[0m\u001b[0msuptitle\u001b[0m\u001b[0;34m(\u001b[0m\u001b[0;34m\"Histograms showing Student Answers Question 1 (all subquestions) of the Attitude Survey\"\u001b[0m\u001b[0;34m)\u001b[0m\u001b[0;34m\u001b[0m\u001b[0;34m\u001b[0m\u001b[0m\n\u001b[1;32m     31\u001b[0m \u001b[0;34m\u001b[0m\u001b[0m\n",
      "\u001b[0;31mNameError\u001b[0m: name 'q_df' is not defined"
     ]
    }
   ],
   "source": [
    "# Data Preprocessing \n",
    "\n",
    "# Frequency Table (TODO: Change for overall score instead of per question score.)\n",
    "frequency_dataframe_columns = ['Q1p1','Q1p2','Q1p3','Q1p4','Q1p5','Q2p1'\n",
    ",'Q2p2','Q2p3','Q2p4','Q2p5','Q2p6','Q2p7','Q2p8','Q2p9','Q2p10','Q2p11',\n",
    "'Q3p1','Q3p2','Q3p3','Q3p4','Q4p1','Q4p2','Q4p3','Q4p4','Q4p5','Q4p6',\n",
    "'Q4p7','Q5p1','Q5p1','Q5p3','Q5p4','Q5p5','Q5p6','Q5p7']\n",
    "frequency_table = []\n",
    "for col in postlab_q.columns:\n",
    "    frequency_table.append(list(postlab_q[col].value_counts().sort_index()))\n",
    "frequency_df = pd.DataFrame(frequency_table).transpose()\n",
    "frequency_df.columns = frequency_dataframe_columns\n",
    "frequency_df.index = [1,2,3,4,5]\n",
    "frequency_df\n",
    "\n",
    "# Student Attitude Scores per student Pre and Post Lab\n",
    "weights=[\n",
    "    1, 1, 1, 1, 1,\n",
    "    1, 1, 1, 1, 1, 1, 1, 1, 1, 1, 1,\n",
    "    0, 1, 0, 0,\n",
    "    -1, -1, -1, -1, -1, 1, 1,\n",
    "    1, 1, 1, -1, 1, -1, -1\n",
    "]\n",
    "weighted_postlab_q = postlab_q.mul(weights)\n",
    "weighted_prelab_q = prelab_q.mul(weights)\n",
    "pre_post_lab = pd.DataFrame(list(zip(list(weighted_prelab_q.sum(axis=1)), list(weighted_postlab_q.sum(axis=1)))), \n",
    "columns=[\"Prelab\", \"Postlab\"])\n",
    "\n",
    "\n",
    "# Plotting Side-by-Side Histogram\n",
    "\n",
    "fig, ax = plt.subplots(len(q_df.columns), 3, figsize=(12,60))\n",
    "fig.suptitle(\"Histograms showing Student Answers Question 1 (all subquestions) of the Attitude Survey\")\n",
    "\n",
    "for side, q_df in enumerate((prelab_q, postlab_q)):\n",
    "    y = 0\n",
    "    for subq in q_df.columns:\n",
    "        # ax[y,side].set_title('Q1 Before')\n",
    "        ax[y,side].hist(q_df[subq], density=True, bins=5, color=['blue', 'orange'][side])\n",
    "        y += 1\n",
    "\n",
    "y = 0\n",
    "for subq in prelab_q.columns:\n",
    "    ax[y,2].hist((prelab_q[subq], postlab_q[subq]), density=True, bins=5, label=['Pre', 'Post'])\n",
    "    y += 1\n",
    "\n",
    "\n",
    "plt.show()"
   ]
  },
  {
   "cell_type": "code",
   "execution_count": null,
   "metadata": {},
   "outputs": [],
   "source": [
    "# Plotting PieCharts"
   ]
  },
  {
   "cell_type": "markdown",
   "metadata": {},
   "source": [
    "#### Discussion: Data Visualization\n",
    "\n",
    "From the pie charts and the side-by-side histograms describing the data, we observe (X). Side-by-Side Histograms best describe the data we have because (Y).\n",
    "\n",
    "### EDA Step 2: Distribution Statistics \n",
    "\n",
    "Here we find all the moments for our data to better understand the distribution the data follows."
   ]
  },
  {
   "cell_type": "code",
   "execution_count": 91,
   "metadata": {},
   "outputs": [
    {
     "data": {
      "text/html": [
       "<div>\n",
       "<style scoped>\n",
       "    .dataframe tbody tr th:only-of-type {\n",
       "        vertical-align: middle;\n",
       "    }\n",
       "\n",
       "    .dataframe tbody tr th {\n",
       "        vertical-align: top;\n",
       "    }\n",
       "\n",
       "    .dataframe thead th {\n",
       "        text-align: right;\n",
       "    }\n",
       "</style>\n",
       "<table border=\"1\" class=\"dataframe\">\n",
       "  <thead>\n",
       "    <tr style=\"text-align: right;\">\n",
       "      <th></th>\n",
       "      <th>mean</th>\n",
       "      <th>variance</th>\n",
       "      <th>skew</th>\n",
       "      <th>kurtosis</th>\n",
       "    </tr>\n",
       "  </thead>\n",
       "  <tbody>\n",
       "    <tr>\n",
       "      <th>prelab</th>\n",
       "      <td>56.715447</td>\n",
       "      <td>119.336399</td>\n",
       "      <td>0.387210</td>\n",
       "      <td>0.694737</td>\n",
       "    </tr>\n",
       "    <tr>\n",
       "      <th>postlab</th>\n",
       "      <td>55.341463</td>\n",
       "      <td>185.997201</td>\n",
       "      <td>-0.948467</td>\n",
       "      <td>4.241005</td>\n",
       "    </tr>\n",
       "  </tbody>\n",
       "</table>\n",
       "</div>"
      ],
      "text/plain": [
       "              mean    variance      skew  kurtosis\n",
       "prelab   56.715447  119.336399  0.387210  0.694737\n",
       "postlab  55.341463  185.997201 -0.948467  4.241005"
      ]
     },
     "execution_count": 91,
     "metadata": {},
     "output_type": "execute_result"
    }
   ],
   "source": [
    "from scipy.stats import moment\n",
    "import numpy as np\n",
    "moments_pre = [pre_post_lab.Prelab.mean(), pre_post_lab.Prelab.var(), pre_post_lab.Prelab.skew(), pre_post_lab.Prelab.kurt()]\n",
    "moments_post = [pre_post_lab.Postlab.mean(), pre_post_lab.Postlab.var(), pre_post_lab.Postlab.skew(), pre_post_lab.Postlab.kurt()]\n",
    "moments = pd.DataFrame([moments_pre, moments_post],\n",
    "    columns=[\"mean\", \"variance\", \"skew\", \"excess-kurtosis\"], index=[\"prelab\", \"postlab\"])\n",
    "moments"
   ]
  },
  {
   "cell_type": "markdown",
   "metadata": {},
   "source": [
    "From the table above, we observe:\n",
    "\n",
    "* Means of the Student Attitude scores prior to and after performing the lab have changed. Students had a higher mean Student Attitude score prior to performing the lab (56.7), compared to after (55.3).\n",
    "\n",
    "* However, the variance in the Student Attitude scores increased considerably after performing the lab (119 to 186).\n",
    "\n",
    "* The skew in the Student Attitude scores prior to performing the lab was 0.39, indicating a right or positive skew to the distribution. Since the skew is close to 0, the distribution is normal to half-normal. After the lab however, the skew of the data was -0.94, indicating a left- or negative-skew, while remaining normal to half-normal distribution.\n",
    "\n",
    "* Since the excess-kurtosis of the Student Attitude scores prior to and after performing the lab is $> 0$. Thus, the distributions are Leptokurtic. "
   ]
  },
  {
   "cell_type": "markdown",
   "metadata": {},
   "source": [
    "# Analysis\n",
    "\n",
    "In this section, we use several statistical tests to compare the student attitudes about laboratory physics prior to and after performing the Physics lab.\n",
    "\n",
    "Since the data is half-normallly distributed, and two-way comparison is of distribution or mean of two paired samples. Thus, we will be using parametric tests such as Paired t-test and a non-parametric test such as Wilcoxons test and Chi-Squared test.\n",
    "\n",
    "#### Paired t-test\n",
    "\n",
    "Reasons for using paired t-test are:\n",
    "\n",
    "* Data is half-normally distributed so we can use parametric test such as paired t-test.\n",
    "* The two samples are paired, since the same set of students are surveyed prior to and after the lab.\n",
    "* The measure being tested is the mean of the samples.\n",
    "\n",
    "Let the mean student attitude score prior to performing the lab be $\\mu_{pre}$, and after performin the lab be $\\mu_{post}$.\n",
    "\n",
    "$H_0$: $\\mu_{pre}=\\mu_{post}$\n",
    "\n",
    "$H_1$: $\\mu_{pre} \\neq \\mu_{post}$\n"
   ]
  },
  {
   "cell_type": "code",
   "execution_count": 92,
   "metadata": {},
   "outputs": [
    {
     "data": {
      "text/plain": [
       "Ttest_relResult(statistic=1.2178984023741066, pvalue=0.22561279967621176)"
      ]
     },
     "execution_count": 92,
     "metadata": {},
     "output_type": "execute_result"
    }
   ],
   "source": [
    "from scipy.stats import ttest_rel\n",
    "\n",
    "ttest_rel(pre_post_lab.Prelab, pre_post_lab.Postlab)\n"
   ]
  },
  {
   "cell_type": "markdown",
   "metadata": {},
   "source": [
    "From the Paired t-test, we observe t-statistic of $1.22$ with p-value $0.23$.\n",
    "#### Wilcoxons Signed Rank Test\n",
    "\n",
    "\n",
    "Reasons for using Wilcoxons Signed Rank Test are:\n",
    "\n",
    "* The two samples are paired, since the same set of students are surveyed prior to and after the lab.\n",
    "* The measure being tested is the mean of the samples.\n",
    "* Assumed that each student, independently filled out the survey.\n",
    "* We have more than 30 subjects per sample."
   ]
  },
  {
   "cell_type": "code",
   "execution_count": 93,
   "metadata": {},
   "outputs": [
    {
     "data": {
      "text/plain": [
       "WilcoxonResult(statistic=3302.0, pvalue=0.5753040184606746)"
      ]
     },
     "execution_count": 93,
     "metadata": {},
     "output_type": "execute_result"
    }
   ],
   "source": [
    "from scipy.stats import wilcoxon\n",
    "\n",
    "wilcoxon(pre_post_lab.Prelab, pre_post_lab.Postlab)"
   ]
  },
  {
   "cell_type": "markdown",
   "metadata": {},
   "source": [
    "From the Wilcoxons Signed Rank Test, we observe the test statistic of $3302.0$ with p-value $0.58$."
   ]
  },
  {
   "cell_type": "code",
   "execution_count": null,
   "metadata": {},
   "outputs": [],
   "source": []
  }
 ],
 "metadata": {
  "interpreter": {
   "hash": "81a0512154acd3ac764f4ab752b9af0bffa9b6f4e9bbb512cda5e9db6d1400b6"
  },
  "kernelspec": {
   "display_name": "Python 3.7.6 ('base')",
   "language": "python",
   "name": "python3"
  },
  "language_info": {
   "codemirror_mode": {
    "name": "ipython",
    "version": 3
   },
   "file_extension": ".py",
   "mimetype": "text/x-python",
   "name": "python",
   "nbconvert_exporter": "python",
   "pygments_lexer": "ipython3",
   "version": "3.7.6"
  },
  "orig_nbformat": 4
 },
 "nbformat": 4,
 "nbformat_minor": 2
}
